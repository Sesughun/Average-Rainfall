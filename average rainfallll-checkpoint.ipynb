{
 "cells": [
  {
   "cell_type": "code",
   "execution_count": null,
   "id": "2152251e",
   "metadata": {},
   "outputs": [],
   "source": [
    "print(\"This calculator evaluates the average rainfall for a number of years:\")\n",
    "year=int(input(\"Enter the number of years\"))\n",
    "y=0\n",
    "i=0\n",
    "while y<year:\n",
    "    while (i<=12):\n",
    "        print(f\"Amount of rainfall {i}:\")\n",
    "        rainfall = float(input())\n",
    "        rainfall+=rainfall\n",
    "        i+=i\n",
    "    y=y+1\n",
    "average = rainfall/(12*year)\n",
    "print(f\"The average rainfall for {year} years is {average}cm^2\")"
   ]
  },
  {
   "cell_type": "code",
   "execution_count": null,
   "id": "32d5cad1",
   "metadata": {},
   "outputs": [],
   "source": []
  },
  {
   "cell_type": "code",
   "execution_count": null,
   "id": "b6842a3d",
   "metadata": {},
   "outputs": [],
   "source": []
  }
 ],
 "metadata": {
  "kernelspec": {
   "display_name": "Python 3 (ipykernel)",
   "language": "python",
   "name": "python3"
  },
  "language_info": {
   "codemirror_mode": {
    "name": "ipython",
    "version": 3
   },
   "file_extension": ".py",
   "mimetype": "text/x-python",
   "name": "python",
   "nbconvert_exporter": "python",
   "pygments_lexer": "ipython3",
   "version": "3.10.8"
  }
 },
 "nbformat": 4,
 "nbformat_minor": 5
}
